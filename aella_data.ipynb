{
  "nbformat": 4,
  "nbformat_minor": 0,
  "metadata": {
    "colab": {
      "provenance": [],
      "mount_file_id": "1lGEDduql5MSiOj1TwyF2-0ajBjvCfaIC",
      "authorship_tag": "ABX9TyMrAfZ64VbvLJh319RGYk1m",
      "include_colab_link": true
    },
    "kernelspec": {
      "name": "python3",
      "display_name": "Python 3"
    },
    "language_info": {
      "name": "python"
    },
    "widgets": {
      "application/vnd.jupyter.widget-state+json": {
        "056c80d3ddc345ec8f7e88bd3486663d": {
          "model_module": "@jupyter-widgets/controls",
          "model_name": "HBoxModel",
          "model_module_version": "1.5.0",
          "state": {
            "_dom_classes": [],
            "_model_module": "@jupyter-widgets/controls",
            "_model_module_version": "1.5.0",
            "_model_name": "HBoxModel",
            "_view_count": null,
            "_view_module": "@jupyter-widgets/controls",
            "_view_module_version": "1.5.0",
            "_view_name": "HBoxView",
            "box_style": "",
            "children": [
              "IPY_MODEL_533e074055964b758a21d39f88ff8c06",
              "IPY_MODEL_048eddb05a52439bb9aaf63841cafd86",
              "IPY_MODEL_14923b1542e64d3084c560c9468eb090"
            ],
            "layout": "IPY_MODEL_8009bbfd8e724ab1961955259c66d41c"
          }
        },
        "533e074055964b758a21d39f88ff8c06": {
          "model_module": "@jupyter-widgets/controls",
          "model_name": "HTMLModel",
          "model_module_version": "1.5.0",
          "state": {
            "_dom_classes": [],
            "_model_module": "@jupyter-widgets/controls",
            "_model_module_version": "1.5.0",
            "_model_name": "HTMLModel",
            "_view_count": null,
            "_view_module": "@jupyter-widgets/controls",
            "_view_module_version": "1.5.0",
            "_view_name": "HTMLView",
            "description": "",
            "description_tooltip": null,
            "layout": "IPY_MODEL_fccbd349c06b401db9bd021b98dabd74",
            "placeholder": "​",
            "style": "IPY_MODEL_f815c3cda2684450809119d16f15b79d",
            "value": "100%"
          }
        },
        "048eddb05a52439bb9aaf63841cafd86": {
          "model_module": "@jupyter-widgets/controls",
          "model_name": "FloatProgressModel",
          "model_module_version": "1.5.0",
          "state": {
            "_dom_classes": [],
            "_model_module": "@jupyter-widgets/controls",
            "_model_module_version": "1.5.0",
            "_model_name": "FloatProgressModel",
            "_view_count": null,
            "_view_module": "@jupyter-widgets/controls",
            "_view_module_version": "1.5.0",
            "_view_name": "ProgressView",
            "bar_style": "success",
            "description": "",
            "description_tooltip": null,
            "layout": "IPY_MODEL_6bb1fbfe8e6348c49c310cacd968a203",
            "max": 3,
            "min": 0,
            "orientation": "horizontal",
            "style": "IPY_MODEL_27beb8b5d2ec457397f5ee0753753d86",
            "value": 3
          }
        },
        "14923b1542e64d3084c560c9468eb090": {
          "model_module": "@jupyter-widgets/controls",
          "model_name": "HTMLModel",
          "model_module_version": "1.5.0",
          "state": {
            "_dom_classes": [],
            "_model_module": "@jupyter-widgets/controls",
            "_model_module_version": "1.5.0",
            "_model_name": "HTMLModel",
            "_view_count": null,
            "_view_module": "@jupyter-widgets/controls",
            "_view_module_version": "1.5.0",
            "_view_name": "HTMLView",
            "description": "",
            "description_tooltip": null,
            "layout": "IPY_MODEL_d6533e04b7774ab69d166c47545c5435",
            "placeholder": "​",
            "style": "IPY_MODEL_7da12876bc6f410593e3b3e5d37dfac1",
            "value": " 3/3 [02:01&lt;00:00, 40.23s/it]"
          }
        },
        "8009bbfd8e724ab1961955259c66d41c": {
          "model_module": "@jupyter-widgets/base",
          "model_name": "LayoutModel",
          "model_module_version": "1.2.0",
          "state": {
            "_model_module": "@jupyter-widgets/base",
            "_model_module_version": "1.2.0",
            "_model_name": "LayoutModel",
            "_view_count": null,
            "_view_module": "@jupyter-widgets/base",
            "_view_module_version": "1.2.0",
            "_view_name": "LayoutView",
            "align_content": null,
            "align_items": null,
            "align_self": null,
            "border": null,
            "bottom": null,
            "display": null,
            "flex": null,
            "flex_flow": null,
            "grid_area": null,
            "grid_auto_columns": null,
            "grid_auto_flow": null,
            "grid_auto_rows": null,
            "grid_column": null,
            "grid_gap": null,
            "grid_row": null,
            "grid_template_areas": null,
            "grid_template_columns": null,
            "grid_template_rows": null,
            "height": null,
            "justify_content": null,
            "justify_items": null,
            "left": null,
            "margin": null,
            "max_height": null,
            "max_width": null,
            "min_height": null,
            "min_width": null,
            "object_fit": null,
            "object_position": null,
            "order": null,
            "overflow": null,
            "overflow_x": null,
            "overflow_y": null,
            "padding": null,
            "right": null,
            "top": null,
            "visibility": null,
            "width": null
          }
        },
        "fccbd349c06b401db9bd021b98dabd74": {
          "model_module": "@jupyter-widgets/base",
          "model_name": "LayoutModel",
          "model_module_version": "1.2.0",
          "state": {
            "_model_module": "@jupyter-widgets/base",
            "_model_module_version": "1.2.0",
            "_model_name": "LayoutModel",
            "_view_count": null,
            "_view_module": "@jupyter-widgets/base",
            "_view_module_version": "1.2.0",
            "_view_name": "LayoutView",
            "align_content": null,
            "align_items": null,
            "align_self": null,
            "border": null,
            "bottom": null,
            "display": null,
            "flex": null,
            "flex_flow": null,
            "grid_area": null,
            "grid_auto_columns": null,
            "grid_auto_flow": null,
            "grid_auto_rows": null,
            "grid_column": null,
            "grid_gap": null,
            "grid_row": null,
            "grid_template_areas": null,
            "grid_template_columns": null,
            "grid_template_rows": null,
            "height": null,
            "justify_content": null,
            "justify_items": null,
            "left": null,
            "margin": null,
            "max_height": null,
            "max_width": null,
            "min_height": null,
            "min_width": null,
            "object_fit": null,
            "object_position": null,
            "order": null,
            "overflow": null,
            "overflow_x": null,
            "overflow_y": null,
            "padding": null,
            "right": null,
            "top": null,
            "visibility": null,
            "width": null
          }
        },
        "f815c3cda2684450809119d16f15b79d": {
          "model_module": "@jupyter-widgets/controls",
          "model_name": "DescriptionStyleModel",
          "model_module_version": "1.5.0",
          "state": {
            "_model_module": "@jupyter-widgets/controls",
            "_model_module_version": "1.5.0",
            "_model_name": "DescriptionStyleModel",
            "_view_count": null,
            "_view_module": "@jupyter-widgets/base",
            "_view_module_version": "1.2.0",
            "_view_name": "StyleView",
            "description_width": ""
          }
        },
        "6bb1fbfe8e6348c49c310cacd968a203": {
          "model_module": "@jupyter-widgets/base",
          "model_name": "LayoutModel",
          "model_module_version": "1.2.0",
          "state": {
            "_model_module": "@jupyter-widgets/base",
            "_model_module_version": "1.2.0",
            "_model_name": "LayoutModel",
            "_view_count": null,
            "_view_module": "@jupyter-widgets/base",
            "_view_module_version": "1.2.0",
            "_view_name": "LayoutView",
            "align_content": null,
            "align_items": null,
            "align_self": null,
            "border": null,
            "bottom": null,
            "display": null,
            "flex": null,
            "flex_flow": null,
            "grid_area": null,
            "grid_auto_columns": null,
            "grid_auto_flow": null,
            "grid_auto_rows": null,
            "grid_column": null,
            "grid_gap": null,
            "grid_row": null,
            "grid_template_areas": null,
            "grid_template_columns": null,
            "grid_template_rows": null,
            "height": null,
            "justify_content": null,
            "justify_items": null,
            "left": null,
            "margin": null,
            "max_height": null,
            "max_width": null,
            "min_height": null,
            "min_width": null,
            "object_fit": null,
            "object_position": null,
            "order": null,
            "overflow": null,
            "overflow_x": null,
            "overflow_y": null,
            "padding": null,
            "right": null,
            "top": null,
            "visibility": null,
            "width": null
          }
        },
        "27beb8b5d2ec457397f5ee0753753d86": {
          "model_module": "@jupyter-widgets/controls",
          "model_name": "ProgressStyleModel",
          "model_module_version": "1.5.0",
          "state": {
            "_model_module": "@jupyter-widgets/controls",
            "_model_module_version": "1.5.0",
            "_model_name": "ProgressStyleModel",
            "_view_count": null,
            "_view_module": "@jupyter-widgets/base",
            "_view_module_version": "1.2.0",
            "_view_name": "StyleView",
            "bar_color": null,
            "description_width": ""
          }
        },
        "d6533e04b7774ab69d166c47545c5435": {
          "model_module": "@jupyter-widgets/base",
          "model_name": "LayoutModel",
          "model_module_version": "1.2.0",
          "state": {
            "_model_module": "@jupyter-widgets/base",
            "_model_module_version": "1.2.0",
            "_model_name": "LayoutModel",
            "_view_count": null,
            "_view_module": "@jupyter-widgets/base",
            "_view_module_version": "1.2.0",
            "_view_name": "LayoutView",
            "align_content": null,
            "align_items": null,
            "align_self": null,
            "border": null,
            "bottom": null,
            "display": null,
            "flex": null,
            "flex_flow": null,
            "grid_area": null,
            "grid_auto_columns": null,
            "grid_auto_flow": null,
            "grid_auto_rows": null,
            "grid_column": null,
            "grid_gap": null,
            "grid_row": null,
            "grid_template_areas": null,
            "grid_template_columns": null,
            "grid_template_rows": null,
            "height": null,
            "justify_content": null,
            "justify_items": null,
            "left": null,
            "margin": null,
            "max_height": null,
            "max_width": null,
            "min_height": null,
            "min_width": null,
            "object_fit": null,
            "object_position": null,
            "order": null,
            "overflow": null,
            "overflow_x": null,
            "overflow_y": null,
            "padding": null,
            "right": null,
            "top": null,
            "visibility": null,
            "width": null
          }
        },
        "7da12876bc6f410593e3b3e5d37dfac1": {
          "model_module": "@jupyter-widgets/controls",
          "model_name": "DescriptionStyleModel",
          "model_module_version": "1.5.0",
          "state": {
            "_model_module": "@jupyter-widgets/controls",
            "_model_module_version": "1.5.0",
            "_model_name": "DescriptionStyleModel",
            "_view_count": null,
            "_view_module": "@jupyter-widgets/base",
            "_view_module_version": "1.2.0",
            "_view_name": "StyleView",
            "description_width": ""
          }
        }
      }
    }
  },
  "cells": [
    {
      "cell_type": "markdown",
      "metadata": {
        "id": "view-in-github",
        "colab_type": "text"
      },
      "source": [
        "<a href=\"https://colab.research.google.com/github/nickwan/nwds-stream-notebooks/blob/main/aella_data.ipynb\" target=\"_parent\"><img src=\"https://colab.research.google.com/assets/colab-badge.svg\" alt=\"Open In Colab\"/></a>"
      ]
    },
    {
      "cell_type": "markdown",
      "source": [
        "# aella datasets  \n",
        "https://knowingless.com/raw-data/  "
      ],
      "metadata": {
        "id": "IpwtCiODKVph"
      }
    },
    {
      "cell_type": "code",
      "source": [
        "!pip install adjustText\n",
        "!pip install catboost"
      ],
      "metadata": {
        "colab": {
          "base_uri": "https://localhost:8080/",
          "height": 714
        },
        "id": "xUNuCwg_fAIF",
        "outputId": "42af5b21-2cdd-4879-94a9-0713abb3137c"
      },
      "execution_count": null,
      "outputs": [
        {
          "output_type": "display_data",
          "data": {
            "text/plain": [
              "<IPython.core.display.Javascript object>"
            ],
            "application/javascript": [
              "\n",
              "  for (rule of document.styleSheets[0].cssRules){\n",
              "    if (rule.selectorText=='body') {\n",
              "      rule.style.fontSize = '24px'\n",
              "      break\n",
              "    }\n",
              "  }\n",
              "  "
            ]
          },
          "metadata": {}
        },
        {
          "output_type": "display_data",
          "data": {
            "text/plain": [
              "<IPython.core.display.Javascript object>"
            ],
            "application/javascript": [
              "\n",
              "  for (rule of document.styleSheets[0].cssRules){\n",
              "    if (rule.selectorText=='body') {\n",
              "      rule.style.fontSize = '24px'\n",
              "      break\n",
              "    }\n",
              "  }\n",
              "  "
            ]
          },
          "metadata": {}
        },
        {
          "output_type": "stream",
          "name": "stdout",
          "text": [
            "Collecting catboost\n",
            "  Downloading catboost-1.2.3-cp310-cp310-manylinux2014_x86_64.whl (98.5 MB)\n",
            "\u001b[2K     \u001b[90m━━━━━━━━━━━━━━━━━━━━━━━━━━━━━━━━━━━━━━━━\u001b[0m \u001b[32m98.5/98.5 MB\u001b[0m \u001b[31m2.6 MB/s\u001b[0m eta \u001b[36m0:00:00\u001b[0m\n",
            "\u001b[?25hRequirement already satisfied: graphviz in /usr/local/lib/python3.10/dist-packages (from catboost) (0.20.1)\n",
            "Requirement already satisfied: matplotlib in /usr/local/lib/python3.10/dist-packages (from catboost) (3.7.1)\n",
            "Requirement already satisfied: numpy>=1.16.0 in /usr/local/lib/python3.10/dist-packages (from catboost) (1.25.2)\n",
            "Requirement already satisfied: pandas>=0.24 in /usr/local/lib/python3.10/dist-packages (from catboost) (1.5.3)\n",
            "Requirement already satisfied: scipy in /usr/local/lib/python3.10/dist-packages (from catboost) (1.11.4)\n",
            "Requirement already satisfied: plotly in /usr/local/lib/python3.10/dist-packages (from catboost) (5.15.0)\n",
            "Requirement already satisfied: six in /usr/local/lib/python3.10/dist-packages (from catboost) (1.16.0)\n",
            "Requirement already satisfied: python-dateutil>=2.8.1 in /usr/local/lib/python3.10/dist-packages (from pandas>=0.24->catboost) (2.8.2)\n",
            "Requirement already satisfied: pytz>=2020.1 in /usr/local/lib/python3.10/dist-packages (from pandas>=0.24->catboost) (2023.4)\n",
            "Requirement already satisfied: contourpy>=1.0.1 in /usr/local/lib/python3.10/dist-packages (from matplotlib->catboost) (1.2.0)\n",
            "Requirement already satisfied: cycler>=0.10 in /usr/local/lib/python3.10/dist-packages (from matplotlib->catboost) (0.12.1)\n",
            "Requirement already satisfied: fonttools>=4.22.0 in /usr/local/lib/python3.10/dist-packages (from matplotlib->catboost) (4.49.0)\n",
            "Requirement already satisfied: kiwisolver>=1.0.1 in /usr/local/lib/python3.10/dist-packages (from matplotlib->catboost) (1.4.5)\n",
            "Requirement already satisfied: packaging>=20.0 in /usr/local/lib/python3.10/dist-packages (from matplotlib->catboost) (23.2)\n",
            "Requirement already satisfied: pillow>=6.2.0 in /usr/local/lib/python3.10/dist-packages (from matplotlib->catboost) (9.4.0)\n",
            "Requirement already satisfied: pyparsing>=2.3.1 in /usr/local/lib/python3.10/dist-packages (from matplotlib->catboost) (3.1.1)\n",
            "Requirement already satisfied: tenacity>=6.2.0 in /usr/local/lib/python3.10/dist-packages (from plotly->catboost) (8.2.3)\n",
            "Installing collected packages: catboost\n",
            "Successfully installed catboost-1.2.3\n"
          ]
        }
      ]
    },
    {
      "cell_type": "code",
      "source": [
        "import os\n",
        "import pandas as pd\n",
        "import numpy as np\n",
        "import matplotlib.pyplot as plt\n",
        "import seaborn as sns\n",
        "from tqdm.notebook import tqdm\n",
        "from adjustText import adjust_text"
      ],
      "metadata": {
        "colab": {
          "base_uri": "https://localhost:8080/",
          "height": 17
        },
        "id": "I8gP4JGNKfvU",
        "outputId": "8a23b0ab-4919-4e34-ce9c-1f60cebe749b"
      },
      "execution_count": null,
      "outputs": [
        {
          "output_type": "display_data",
          "data": {
            "text/plain": [
              "<IPython.core.display.Javascript object>"
            ],
            "application/javascript": [
              "\n",
              "  for (rule of document.styleSheets[0].cssRules){\n",
              "    if (rule.selectorText=='body') {\n",
              "      rule.style.fontSize = '24px'\n",
              "      break\n",
              "    }\n",
              "  }\n",
              "  "
            ]
          },
          "metadata": {}
        },
        {
          "output_type": "display_data",
          "data": {
            "text/plain": [
              "<IPython.core.display.Javascript object>"
            ],
            "application/javascript": [
              "\n",
              "  for (rule of document.styleSheets[0].cssRules){\n",
              "    if (rule.selectorText=='body') {\n",
              "      rule.style.fontSize = '24px'\n",
              "      break\n",
              "    }\n",
              "  }\n",
              "  "
            ]
          },
          "metadata": {}
        }
      ]
    },
    {
      "cell_type": "code",
      "source": [
        "project_dir = 'drive/My Drive/aella-data'"
      ],
      "metadata": {
        "colab": {
          "base_uri": "https://localhost:8080/",
          "height": 17
        },
        "id": "iEWEK8r5UeLr",
        "outputId": "7abf0252-34b0-4c8b-9be6-7428141d56a0"
      },
      "execution_count": null,
      "outputs": [
        {
          "output_type": "display_data",
          "data": {
            "text/plain": [
              "<IPython.core.display.Javascript object>"
            ],
            "application/javascript": [
              "\n",
              "  for (rule of document.styleSheets[0].cssRules){\n",
              "    if (rule.selectorText=='body') {\n",
              "      rule.style.fontSize = '24px'\n",
              "      break\n",
              "    }\n",
              "  }\n",
              "  "
            ]
          },
          "metadata": {}
        },
        {
          "output_type": "display_data",
          "data": {
            "text/plain": [
              "<IPython.core.display.Javascript object>"
            ],
            "application/javascript": [
              "\n",
              "  for (rule of document.styleSheets[0].cssRules){\n",
              "    if (rule.selectorText=='body') {\n",
              "      rule.style.fontSize = '24px'\n",
              "      break\n",
              "    }\n",
              "  }\n",
              "  "
            ]
          },
          "metadata": {}
        }
      ]
    },
    {
      "cell_type": "code",
      "source": [
        "os.listdir(project_dir)"
      ],
      "metadata": {
        "colab": {
          "base_uri": "https://localhost:8080/",
          "height": 48
        },
        "id": "N_FzcvvmUhBV",
        "outputId": "13e10ed8-9a2d-4cc7-c152-55950aee8b57"
      },
      "execution_count": null,
      "outputs": [
        {
          "output_type": "display_data",
          "data": {
            "text/plain": [
              "<IPython.core.display.Javascript object>"
            ],
            "application/javascript": [
              "\n",
              "  for (rule of document.styleSheets[0].cssRules){\n",
              "    if (rule.selectorText=='body') {\n",
              "      rule.style.fontSize = '24px'\n",
              "      break\n",
              "    }\n",
              "  }\n",
              "  "
            ]
          },
          "metadata": {}
        },
        {
          "output_type": "display_data",
          "data": {
            "text/plain": [
              "<IPython.core.display.Javascript object>"
            ],
            "application/javascript": [
              "\n",
              "  for (rule of document.styleSheets[0].cssRules){\n",
              "    if (rule.selectorText=='body') {\n",
              "      rule.style.fontSize = '24px'\n",
              "      break\n",
              "    }\n",
              "  }\n",
              "  "
            ]
          },
          "metadata": {}
        },
        {
          "output_type": "execute_result",
          "data": {
            "text/plain": [
              "['kinkinterestpublic.csv', 'taboo-ratings.csv']"
            ]
          },
          "metadata": {},
          "execution_count": 7
        }
      ]
    },
    {
      "cell_type": "code",
      "source": [
        "taboo = pd.read_csv(f'{project_dir}/taboo-ratings.csv')\n",
        "taboo.shape"
      ],
      "metadata": {
        "colab": {
          "base_uri": "https://localhost:8080/",
          "height": 129
        },
        "id": "wqwqDljsXwkt",
        "outputId": "0fecb1d8-c37e-40d7-c452-3fe7feda6d39"
      },
      "execution_count": null,
      "outputs": [
        {
          "output_type": "display_data",
          "data": {
            "text/plain": [
              "<IPython.core.display.Javascript object>"
            ],
            "application/javascript": [
              "\n",
              "  for (rule of document.styleSheets[0].cssRules){\n",
              "    if (rule.selectorText=='body') {\n",
              "      rule.style.fontSize = '24px'\n",
              "      break\n",
              "    }\n",
              "  }\n",
              "  "
            ]
          },
          "metadata": {}
        },
        {
          "output_type": "display_data",
          "data": {
            "text/plain": [
              "<IPython.core.display.Javascript object>"
            ],
            "application/javascript": [
              "\n",
              "  for (rule of document.styleSheets[0].cssRules){\n",
              "    if (rule.selectorText=='body') {\n",
              "      rule.style.fontSize = '24px'\n",
              "      break\n",
              "    }\n",
              "  }\n",
              "  "
            ]
          },
          "metadata": {}
        },
        {
          "output_type": "stream",
          "name": "stderr",
          "text": [
            "<ipython-input-11-4ce9138308e2>:1: DtypeWarning: Columns (2,19,231,288,289,294,297,300,303,305,308) have mixed types. Specify dtype option on import or set low_memory=False.\n",
            "  taboo = pd.read_csv(f'{project_dir}/taboo-ratings.csv')\n"
          ]
        },
        {
          "output_type": "execute_result",
          "data": {
            "text/plain": [
              "(4514, 314)"
            ]
          },
          "metadata": {},
          "execution_count": 11
        }
      ]
    },
    {
      "cell_type": "code",
      "source": [
        "taboo.columns.values"
      ],
      "metadata": {
        "colab": {
          "base_uri": "https://localhost:8080/",
          "height": 1000
        },
        "id": "nXWXutNPX1j6",
        "outputId": "341b020e-6de2-42cc-a8b3-b441d3041c95"
      },
      "execution_count": null,
      "outputs": [
        {
          "output_type": "display_data",
          "data": {
            "text/plain": [
              "<IPython.core.display.Javascript object>"
            ],
            "application/javascript": [
              "\n",
              "  for (rule of document.styleSheets[0].cssRules){\n",
              "    if (rule.selectorText=='body') {\n",
              "      rule.style.fontSize = '24px'\n",
              "      break\n",
              "    }\n",
              "  }\n",
              "  "
            ]
          },
          "metadata": {}
        },
        {
          "output_type": "display_data",
          "data": {
            "text/plain": [
              "<IPython.core.display.Javascript object>"
            ],
            "application/javascript": [
              "\n",
              "  for (rule of document.styleSheets[0].cssRules){\n",
              "    if (rule.selectorText=='body') {\n",
              "      rule.style.fontSize = '24px'\n",
              "      break\n",
              "    }\n",
              "  }\n",
              "  "
            ]
          },
          "metadata": {}
        },
        {
          "output_type": "execute_result",
          "data": {
            "text/plain": [
              "array(['Run', 'Program Version', 'User', 'Time Started (UTC)',\n",
              "       'Time Finished (UTC)', 'Minutes Spent', 'Position', 'Points',\n",
              "       'arousalScale', 'Your age? (rkkox57)', 'selfage',\n",
              "       'Which category fits you best? (4790ydl)', 'biomale', 'gendermale',\n",
              "       'cis', 'gendered', 'You got to this survey from: (mpjxl34)',\n",
              "       'Is this your first time taking the survey? (o8uwpe)', 'firsttime',\n",
              "       'Randomize (ghojbjt)', 'sexual teasing (vdrdwok)', 'teasing',\n",
              "       'vaginal sex (with a penis or penile-toy) (nejpuy2)', 'normalsex',\n",
              "       'anal sex (o282uc7)', 'analsex', 'prepubescent children (53ggvq3)',\n",
              "       'pedophilia', 'having sex with an anonymous stranger (4296bnp)',\n",
              "       'anonsex', 'CGL (caregiver/little) dynamics (20uachz)', 'cgl',\n",
              "       'specific sensory textures (38zk5a)', 'textures',\n",
              "       'sexual scenarios involving specific roles (like secretaries, nurses, catgirls, etc.) (4odx2pm)',\n",
              "       'roles',\n",
              "       'sexual scenarios involving a specific state of appearance (h6ytebf)',\n",
              "       'appearance', 'unrealistically giant butts and/or boobs (1dfadqm)',\n",
              "       'hugebuttsboobs',\n",
              "       '\"me being submissive\" in sexual scenarios (rvmhwz3)', 'beingsub',\n",
              "       'sexual scenarios focused on urine/urination (9mnv5hk)', 'urine',\n",
              "       'gentle sensuality, like slowly kissing a partner all over their body, (4oru7gr)',\n",
              "       'sensuality',\n",
              "       \"inadequate clothing (wardrobe malfunctions, clothing that's too small) (3dckpe7)\",\n",
              "       'smallclothing', 'sexual scenarios focused on precum (mt3urnd)',\n",
              "       'precum', 'sexual scenarios focused on breast milk (udxf56x)',\n",
              "       'breastmilk', 'people who are very skinny (50rofbk)', 'skinny',\n",
              "       'sexual scenarios involving multiple partners (rnctsih)',\n",
              "       'multiplepartners', 'bimbos/bimbification (uvtc98n)', 'bimbos',\n",
              "       'very big size differences (e.g., a giant and a fairy-sized person) (eueibtc)',\n",
              "       'sizediff', 'sexual scenarios involving eagerness (595d7kn)',\n",
              "       'eagerness', 'snuff/executions (99ertm0)', 'executions',\n",
              "       'feet (2n2w420)', 'feet',\n",
              "       '\"me being dominant\" in sexual scenarios (5tj1861)', 'beingdom',\n",
              "       'sexual scenarios involving humiliation (et68xz6)', 'humiliation',\n",
              "       'sexual frustration (m8cjvv4)', 'frustration',\n",
              "       'furries/being a furry (cvueq97)', 'furry',\n",
              "       '\"intense\" toys like pumps, speculums, and weights on clamps (vx9hoq3)',\n",
              "       'paintoys', 'romance/romantic scenarios (26v11a8)', 'romance',\n",
              "       'pegging (j7elh4w)', 'pegging', 'dolls/mannequins (5sphtt)',\n",
              "       'dolls', 'me *giving* pain to others (egh0d8t)', 'givepain',\n",
              "       'sexual scenarios involving specific, nonstandard objects (66tr6c)',\n",
              "       'objects',\n",
              "       'fantasies of masturbating alone as a biological male, (f2b73xx)',\n",
              "       'masturbatingasmale', 'futanari (x8p2ae2)', 'futa',\n",
              "       'sexual scenarios involving creepiness and horror (v9uf7rq)',\n",
              "       'creepy',\n",
              "       'cold/clinical/medical scenarios (such as gynecologists, military examinations) (1faq7u)',\n",
              "       'clinical', 'bestiality (8j9goqm)', 'bestiality',\n",
              "       'large breasts (u1upmkk)', 'largebreasts',\n",
              "       'dirtiness/disgust/messiness (45313wa)', 'dirty',\n",
              "       'people or characters with tails and/or horns (1hl5g6l)',\n",
              "       'tailsandhorns', 'me *receiving* pain (a1niorn)', 'receivepain',\n",
              "       'specific sensory smells (ezkw4j5)', 'smells',\n",
              "       'sexual scenarios involving nonconsent, dubious consent, boundary pushing, etc. (ug3odty)',\n",
              "       'nonconsent', 'skirts (mc4polf)', 'skirts',\n",
              "       'involving incest between a brother and sister (j9fdtvl)',\n",
              "       'brothersister',\n",
              "       'sexual scenarios involving brutality or violence (vopjor7)',\n",
              "       'brutality', 'dynamics centered around mindbreaking (f0m1bgr)',\n",
              "       'mindbreak',\n",
              "       'scenarios in which a person is faced with a terrible and inevitable future, (s1in1h8)',\n",
              "       'badends', 'lips (wvpipxx)', 'lips',\n",
              "       'sexual scenarios involving mythical/fictional creatures (em8d5po)',\n",
              "       'mythical', 'sexual scenarios involving bondage (yxieq3a)',\n",
              "       'bondage', 'sexual scenarios involving rapeplay (3zxpu1)',\n",
              "       'rapeplay', 'sexual scenarios involving reptiles (bb02000)',\n",
              "       'reptiles',\n",
              "       'sexual scenarios involving gender transformations (q4c49hh)',\n",
              "       'gendertransform',\n",
              "       '\"freeuse societies\" fantasy cultures where you can casually have sex with anybody you want as a normal, unremarkable thing, (5qt18xj)',\n",
              "       'freeuse', 'genderswapped body parts (sxocaaf)', 'genderswapped',\n",
              "       'tickling (6aaz4ns)', 'tickling',\n",
              "       'monsters (such as orcs, beasts, etc.) (ggdrydr)', 'monsters',\n",
              "       'people who are very overweight or obese (jay0gx7)', 'overweight',\n",
              "       'women/femininity (vm5sm05)', 'femininity', 'bukkake (79h4u3e)',\n",
              "       'bukkake',\n",
              "       'sexual scenarios involving creepy crawlies, like rodents, insects, etc. (9118k9b)',\n",
              "       'creepycrawlies',\n",
              "       'sexual scenarios involving power dynamics (xdirdfz)',\n",
              "       'powerdynamic',\n",
              "       'sexual scenarios involving subculture types like artists, geeks, theater kids, punks, etc. (r2ganco)',\n",
              "       'subtype', 'student/teacher roleplay (10t1was)', 'teacherstudent',\n",
              "       'specific kinds of clothes (hojkrdh)', 'clothing',\n",
              "       'sexual scenarios focused on squirt/squirting (yz9zms)', 'squirt',\n",
              "       'age-related things (beyond \"normal\" stuff like being attracted to people your own age) (t9z2m64)',\n",
              "       'ageplay', 'sexual scenarios focused on blood (evaabea)', 'blood',\n",
              "       'sexual scenarios where the participants feel hate or disdain, (degwdgn)',\n",
              "       'hate', 'sexual scenarios involving vore (6f59fs7)', 'vore',\n",
              "       'incest between a mother and daughter (fdsz3wz)', 'motherdaughter',\n",
              "       'cuckoldry (6p7t7ou)', 'cuckoldry',\n",
              "       'sexual scenarios involving sensory play (sctnxlb)', 'sensory',\n",
              "       'sexual scenarios involving voyeurism (5ka91o0)', 'voyeurism',\n",
              "       'sexual scenarios involving genderplay (kkxuv20)', 'genderplay',\n",
              "       'master/slave dynamics (sggtlsl)', 'masterslave',\n",
              "       'sexual scenarios involving animal transformations (puqfspx)',\n",
              "       'animaltransform',\n",
              "       'dynamics centered around obedience, training, and punishment, (nld1l2w)',\n",
              "       'obedience', 'cunnilingus (dpy8ccv)', 'cunnilingus',\n",
              "       'armpits (wn37bxv)', 'armpits', 'specific ethnicities (kwgjwbe)',\n",
              "       'ethnicities', 'written erotic stories (5owiqwi)', 'erotica',\n",
              "       'sexual scenarios involving body horror (w6bjow6)', 'bodyhorror',\n",
              "       'sexual scenarios involving sissification (htzcwef)',\n",
              "       'sissification', 'sexual scenarios involving sex toys (h7ng9vj)',\n",
              "       'toys',\n",
              "       'scenarios in which the receiver does not get any sexual gratification from pain (dcmvowd)',\n",
              "       'gratification', 'sexual scenarios involving spanking (no0tkv0)',\n",
              "       'spanking',\n",
              "       'fantasies of masturbating alone as a biological female, (9ttucc5)',\n",
              "       'masturbatingasfemale',\n",
              "       'sexual scenarios involving gentleness (moatqwz)', 'gentleness',\n",
              "       'long, passionate makeouts with a romantic partner (q0i3t7l)',\n",
              "       'makeouts', 'men/masculinity (zsri3x8)', 'masculinity',\n",
              "       'sexual scenarios involving sadomasochism (lkdizuc)',\n",
              "       'sadomasochism',\n",
              "       'sexual scenarios involving exhibitionism (6y39y5a)',\n",
              "       'exhibitionism', 'WAM/sploshing (yx1sv1d)', 'WAM',\n",
              "       'sexual scenarios focused on scat/poop (n4kqgzq)', 'scat',\n",
              "       'sexual scenarios involving pregnancy and impregnation (rtwetak)',\n",
              "       'pregnancy', 'blowjobs (ol39os3)', 'blowjobs',\n",
              "       'sexual scenarios involving hypnotism or mind control (oefxxik)',\n",
              "       'hypnotism', 'breathplay/choking (yzlj4bp)', 'choking',\n",
              "       'latex or leather clothing (rjdakff)', 'latexleather',\n",
              "       'scenarios involving incest between a grandparent and grandchild (kkbb18j)',\n",
              "       'grandparentincest', 'teenagers (as6mym7)', 'teens',\n",
              "       'two people of the opposite gender to me (but the same gender as each other) who are sexually interacting, (962ivpa)',\n",
              "       'lesbiangayvoyeur', 'fbclid', 'Randomize (m3ugd5x)',\n",
              "       'sexual scenarios involving tattoos/piercings (e4c0qa3)',\n",
              "       'tattoospiercings',\n",
              "       'sexual scenarios involving diapers or diaper wearing (leoai9p)',\n",
              "       'diapers',\n",
              "       'sexual scenarios involving electric toys, such as violet wands or TENS units (ie7m88f)',\n",
              "       'electrictoys',\n",
              "       'two women sexually interacting with each other (evtfjtw)',\n",
              "       'lesbians', 'sexual scenarios involving black people (u5kjcr0)',\n",
              "       'blackpeople',\n",
              "       'sexual scenarios involving inanimate transformations (u19gvqq)',\n",
              "       'inanimatetransform', 'forced breeding (efmgys9)',\n",
              "       'forcedbreeding',\n",
              "       \"'oviposiiton', or sexual scenarios featuring a woman laying eggs or being filled with eggs (typically by a creature) (bbgwozs)\",\n",
              "       'oviposition',\n",
              "       'sexual scenarios involving hyper or seriously exaggerated masculinity (for example, extreme dominance, muscles, aggression) (mry79e1)',\n",
              "       'extrememasculinity', 'light bondage (up143xb)', 'bondagelight',\n",
              "       'heavy bondage (b3fxasw)', 'bondageheavy',\n",
              "       'two men sexually interacting with each other (rj268m6)', 'gay',\n",
              "       'sexual scenarios involving financial domination (nqx5sr4)',\n",
              "       'findom', 'sexual scenarios involving high heels (d5attqd)',\n",
              "       'highheels', 'sexual scenarios involving Asian people (25qr1rf)',\n",
              "       'asianpeople', 'breast implants (urv2s9u)', 'breastimplants',\n",
              "       'sexual scenarios involving zombies (dbvr8pc)', 'zombies',\n",
              "       'dubious consent (boundary pushing, social coercion, manipulation into sex, etc.) (he4dmsx)',\n",
              "       'dubconsent',\n",
              "       'sexual scenarios involving clear nonconsent (a28rldq)',\n",
              "       'nonconsente',\n",
              "       'sexual scenarios involving worshipping/begging (i12l2w7)',\n",
              "       'beggingworshipping',\n",
              "       'sexual scenarios involving white people (oaj6tuc)', 'whitepeople',\n",
              "       'sexual scenarios involving older people (e.g., 60+ years) (io19iee)',\n",
              "       'olderpeople',\n",
              "       'sexual scenarios involving hyper or seriously exaggerated femininity (for example, subservience, wearing pink, long hair) (lk4248l)',\n",
              "       'extremefemininity',\n",
              "       'sexual scenarios involving pigtails (jj80iw1)', 'pigtails',\n",
              "       'sounding (vvlwpll)', 'sounding', 'creampies (125dics)',\n",
              "       'creampies',\n",
              "       'sexual scenarios involving farts or belches (xyhskyo)',\n",
              "       'fartsbelches',\n",
              "       'sexual scenarios involving the emotion of indifference (xa7f8g1)',\n",
              "       'indifference', 'Randomize (4i861q6)', 'Randomize (zdv2406)',\n",
              "       'I find misgendering to be: (g4h6o86)', 'misgendering',\n",
              "       'I find sexual scenarios focusing on semen to be: (igt0x6n)',\n",
              "       'semen', 'Randomize (fbcoxqz)', 'misgendering: (dap4nii)',\n",
              "       'sexual scenarios focusing on semen (hd5mpc4)',\n",
              "       'Randomize (n3k0j6d)',\n",
              "       'sexual scenarios involving feedism (vxlfmhl)', 'feedism',\n",
              "       'Randomize (hzcsljn)', 'necrophilia: (4yuldwl)', 'necrophilia',\n",
              "       'Randomize (nq5kagx)',\n",
              "       'I find sexual scenarios involving dead bodies to be: (w4l22r1)',\n",
              "       'Randomize (ukslgcr)',\n",
              "       'sexual scenarios involving monogamy (itxccqg)', 'monogamy',\n",
              "       'Randomize (h67ta18)',\n",
              "       'sexual scenarios involving dead bodies (rqood4o)',\n",
              "       'sexual scenarios involving monogamous dynamics (9o7d0f0)',\n",
              "       'sexual scenarios involving polyamorous dynamics (hlz7fym)',\n",
              "       'polyamory', 's'], dtype=object)"
            ]
          },
          "metadata": {},
          "execution_count": 12
        }
      ]
    },
    {
      "cell_type": "code",
      "source": [
        "df = pd.read_csv(f'{project_dir}/kinkinterestpublic.csv')\n",
        "df = df.drop('Unnamed: 0',axis=1)\n",
        "df = df.loc[df['selfage']>=18].copy()\n",
        "df = df.loc[df['selfage']<=df['selfage'].quantile(.99)]\n",
        "df['n_kinks'] = df.loc[:, kink_cols].replace(0, np.nan).count(axis=1)\n",
        "df.shape"
      ],
      "metadata": {
        "colab": {
          "base_uri": "https://localhost:8080/",
          "height": 48
        },
        "id": "bakF0dF0WdHT",
        "outputId": "8b035409-2733-47f3-9066-d5f14ca1a074"
      },
      "execution_count": null,
      "outputs": [
        {
          "output_type": "display_data",
          "data": {
            "text/plain": [
              "<IPython.core.display.Javascript object>"
            ],
            "application/javascript": [
              "\n",
              "  for (rule of document.styleSheets[0].cssRules){\n",
              "    if (rule.selectorText=='body') {\n",
              "      rule.style.fontSize = '24px'\n",
              "      break\n",
              "    }\n",
              "  }\n",
              "  "
            ]
          },
          "metadata": {}
        },
        {
          "output_type": "display_data",
          "data": {
            "text/plain": [
              "<IPython.core.display.Javascript object>"
            ],
            "application/javascript": [
              "\n",
              "  for (rule of document.styleSheets[0].cssRules){\n",
              "    if (rule.selectorText=='body') {\n",
              "      rule.style.fontSize = '24px'\n",
              "      break\n",
              "    }\n",
              "  }\n",
              "  "
            ]
          },
          "metadata": {}
        },
        {
          "output_type": "execute_result",
          "data": {
            "text/plain": [
              "(57300, 133)"
            ]
          },
          "metadata": {},
          "execution_count": 95
        }
      ]
    },
    {
      "cell_type": "code",
      "source": [
        "df.columns.values"
      ],
      "metadata": {
        "colab": {
          "base_uri": "https://localhost:8080/",
          "height": 1000
        },
        "id": "ePD-0f6KW9fU",
        "outputId": "c7481bd7-90a8-49b0-e024-4821eac43940"
      },
      "execution_count": null,
      "outputs": [
        {
          "output_type": "display_data",
          "data": {
            "text/plain": [
              "<IPython.core.display.Javascript object>"
            ],
            "application/javascript": [
              "\n",
              "  for (rule of document.styleSheets[0].cssRules){\n",
              "    if (rule.selectorText=='body') {\n",
              "      rule.style.fontSize = '24px'\n",
              "      break\n",
              "    }\n",
              "  }\n",
              "  "
            ]
          },
          "metadata": {}
        },
        {
          "output_type": "display_data",
          "data": {
            "text/plain": [
              "<IPython.core.display.Javascript object>"
            ],
            "application/javascript": [
              "\n",
              "  for (rule of document.styleSheets[0].cssRules){\n",
              "    if (rule.selectorText=='body') {\n",
              "      rule.style.fontSize = '24px'\n",
              "      break\n",
              "    }\n",
              "  }\n",
              "  "
            ]
          },
          "metadata": {}
        },
        {
          "output_type": "execute_result",
          "data": {
            "text/plain": [
              "array(['Unnamed: 0', 'Minutes Spent', 'gendermale', 'biomale', 'selfage',\n",
              "       'cis', 'feedism', 'necrophilia', 'receivepain', 'overweight',\n",
              "       'analsex', 'WAM', 'breastmilk', 'humiliation', 'rapeplay',\n",
              "       'masculinity', 'masturbatingasfemale', 'multiplepartners',\n",
              "       'gendertransform', 'femininity', 'genderplay', 'hypnotism',\n",
              "       'skirts', 'ethnicities', 'roles', 'brothersister', 'dolls',\n",
              "       'bestiality', 'precum', 'gratification', 'clothing', 'subtype',\n",
              "       'freeuse', 'badends', 'paintoys', 'clinical', 'bimbos',\n",
              "       'sadomasochism', 'textures', 'dirty', 'smallclothing', 'beingsub',\n",
              "       'sissification', 'cunnilingus', 'creepycrawlies', 'toys',\n",
              "       'animaltransform', 'tickling', 'genderswapped', 'mindbreak',\n",
              "       'makeouts', 'feet', 'armpits', 'frustration', 'bukkake',\n",
              "       'sizediff', 'pegging', 'pedophilia', 'creepy', 'tailsandhorns',\n",
              "       'cuckoldry', 'beingdom', 'smells', 'futa', 'givepain',\n",
              "       'teacherstudent', 'obedience', 'blowjobs', 'mythical', 'vore',\n",
              "       'objects', 'masturbatingasmale', 'sensuality', 'blood', 'ageplay',\n",
              "       'urine', 'masterslave', 'latexleather', 'hugebuttsboobs',\n",
              "       'motherdaughter', 'largebreasts', 'lips', 'grandparentincest',\n",
              "       'pregnancy', 'gentleness', 'executions', 'romance', 'cgl',\n",
              "       'monsters', 'skinny', 'teens', 'choking', 'exhibitionism',\n",
              "       'anonsex', 'hate', 'teasing', 'furry', 'squirt', 'bodyhorror',\n",
              "       'brutality', 'scat', 'voyeurism', 'spanking', 'bondagelight',\n",
              "       'fartsbelches', 'olderpeople', 'zombies', 'lesbians',\n",
              "       'whitepeople', 'diapers', 'bondageheavy', 'electrictoys', 'semen',\n",
              "       'misgendering', 'gay', 'tattoospiercings', 'highheels',\n",
              "       'dubconsent', 'asianpeople', 'extremefemininity', 'blackpeople',\n",
              "       'nonconsente', 'forcedbreeding', 'creampies', 'oviposition',\n",
              "       'beggingworshipping', 'inanimatetransform', 'extrememasculinity',\n",
              "       'pigtails', 'breastimplants', 'indifference', 'findom', 'sounding'],\n",
              "      dtype=object)"
            ]
          },
          "metadata": {},
          "execution_count": 9
        }
      ]
    },
    {
      "cell_type": "code",
      "source": [
        "col = np.random.choice(df.columns.values)\n",
        "person_cols = ['Minutes Spent', 'gendermale', 'biomale', 'selfage', 'cis', 'n_kinks']\n",
        "kink_cols = [x for x in df.columns.values if x not in person_cols]\n",
        "df_plt = df.loc[:, ['selfage']+kink_cols].replace(0,np.nan).groupby('selfage', as_index=False).mean()\n",
        "_df_plt = df.loc[df[col]>0, ['selfage', 'n_kinks']].groupby('selfage', as_index=False).mean()\n",
        "df_plt = pd.melt(df_plt,id_vars='selfage')\n",
        "_df_plt = pd.melt(_df_plt,id_vars='selfage', value_name='kinks')\n",
        "df_plt = df_plt.merge(_df_plt.drop('variable',axis=1))\n",
        "df_plt_base = df.loc[:, ['selfage']+kink_cols].replace(0,np.nan).groupby('selfage', as_index=False).mean()\n",
        "df_plt_base['avg'] = df_plt_base.loc[:, kink_cols].mean(axis=1)\n",
        "df_plt_base.loc[:, ['selfage','avg']]\n",
        "df_plt = df_plt.merge(df_plt_base)\n",
        "df_plt['%diff'] = ((df_plt['value'].sub(df_plt['avg'])).div(df_plt['avg'])).mul(100)\n",
        "_df_plt1 = df.loc[df[col]>3, ['selfage', col]].groupby('selfage', as_index=False).count()\n",
        "_df_plt2 = df.loc[df[col]>0, ['selfage', col]].groupby('selfage', as_index=False).count()\n",
        "_df_plt1 = _df_plt1.merge(_df_plt2, on=['selfage'])\n",
        "_df_plt1[col] = _df_plt1[f'{col}_x'].div(_df_plt1[f'{col}_y'])\n",
        "df_plt = df_plt.merge(_df_plt1.loc[:, ['selfage',col]].rename(columns={col:'very_into_it'}))\n",
        "sns.scatterplot(data=df_plt.loc[df_plt['variable']==col], x='selfage', y='%diff',\n",
        "                hue='very_into_it', palette='bone_r', size='kinks')\n",
        "plt.axhline(0, ls=':', c='k')\n",
        "plt.title(f\"% difference for {col} kink vs avg kink\")\n",
        "sns.despine()\n",
        "plt.xlabel('Age')\n",
        "plt.ylabel('%')\n",
        "plt.legend(bbox_to_anchor=(1.02,1),loc=2)\n",
        "plt.show()"
      ],
      "metadata": {
        "colab": {
          "base_uri": "https://localhost:8080/",
          "height": 472
        },
        "id": "nmF8xlffYvbd",
        "outputId": "2cf5ac72-7d2f-4cee-8093-16f8c4dbb16e"
      },
      "execution_count": null,
      "outputs": [
        {
          "output_type": "display_data",
          "data": {
            "text/plain": [
              "<IPython.core.display.Javascript object>"
            ],
            "application/javascript": [
              "\n",
              "  for (rule of document.styleSheets[0].cssRules){\n",
              "    if (rule.selectorText=='body') {\n",
              "      rule.style.fontSize = '24px'\n",
              "      break\n",
              "    }\n",
              "  }\n",
              "  "
            ]
          },
          "metadata": {}
        },
        {
          "output_type": "display_data",
          "data": {
            "text/plain": [
              "<IPython.core.display.Javascript object>"
            ],
            "application/javascript": [
              "\n",
              "  for (rule of document.styleSheets[0].cssRules){\n",
              "    if (rule.selectorText=='body') {\n",
              "      rule.style.fontSize = '24px'\n",
              "      break\n",
              "    }\n",
              "  }\n",
              "  "
            ]
          },
          "metadata": {}
        },
        {
          "output_type": "display_data",
          "data": {
            "text/plain": [
              "<Figure size 640x480 with 1 Axes>"
            ],
            "image/png": "[encoded data removed]"
          },
          "metadata": {}
        }
      ]
    },
    {
      "cell_type": "code",
      "source": [
        "from sklearn.model_selection import KFold\n",
        "from sklearn.metrics import log_loss, mean_squared_error\n",
        "import catboost as cb\n",
        "\n",
        "person_cols = ['Minutes Spent', 'gendermale', 'biomale', 'selfage', 'cis', 'n_kinks']\n",
        "kink_cols = [x for x in df.columns.values if x not in person_cols]\n",
        "target = 'armpits'\n",
        "target_clf = f'{target}%'\n",
        "# feats = ['gendermale', 'biomale', 'selfage', 'cis', 'n_kinks']+kink_cols\n",
        "feats = ['gendermale', 'biomale', 'selfage', 'cis', 'n_kinks']+[x for x in kink_cols if x!=target]\n",
        "\n",
        "\n",
        "model_data = df.loc[:, feats+[target]].fillna(-1)\n",
        "model_data[f'{target}%'] = 0\n",
        "model_data['model2'] = 0\n",
        "model_data.loc[model_data[target]>0,f'{target}%'] = 1\n",
        "model_data.loc[model_data[f'{target}']>0, 'model2'] = 1\n",
        "\n",
        "folds = 3\n",
        "kf = KFold(folds, shuffle=True)\n",
        "clf = pd.Series()\n",
        "score = pd.Series()\n",
        "for train_idx, test_idx in tqdm(kf.split(model_data), total=folds):\n",
        "  train = model_data.iloc[train_idx]\n",
        "  test = model_data.iloc[test_idx]\n",
        "  model = cb.CatBoostClassifier(learning_rate=0.001, verbose=False)\n",
        "  model.fit(train.loc[:, feats], train[target_clf])\n",
        "  s = pd.DataFrame(model.predict_proba(test.loc[:, feats]), index=test.index)[1]\n",
        "  clf = pd.concat([clf,s])\n",
        "\n",
        "  train2 = train.loc[train['model2']==1].copy()\n",
        "  # test2 = test.loc[test['model2']==1].copy()\n",
        "  model = cb.CatBoostRegressor(learning_rate=0.001, verbose=False)\n",
        "  model.fit(train2.loc[:, feats], train2[target])\n",
        "  s = pd.Series(model.predict(test.loc[:, feats]), index=test.index)\n",
        "  score = pd.concat([score,s])\n",
        "\n",
        "model_data[f'{target}%_pred'] = clf\n",
        "model_data[f'{target}_pred'] = score\n",
        "\n"
      ],
      "metadata": {
        "colab": {
          "base_uri": "https://localhost:8080/",
          "height": 192,
          "referenced_widgets": [
            "056c80d3ddc345ec8f7e88bd3486663d",
            "533e074055964b758a21d39f88ff8c06",
            "048eddb05a52439bb9aaf63841cafd86",
            "14923b1542e64d3084c560c9468eb090",
            "8009bbfd8e724ab1961955259c66d41c",
            "fccbd349c06b401db9bd021b98dabd74",
            "f815c3cda2684450809119d16f15b79d",
            "6bb1fbfe8e6348c49c310cacd968a203",
            "27beb8b5d2ec457397f5ee0753753d86",
            "d6533e04b7774ab69d166c47545c5435",
            "7da12876bc6f410593e3b3e5d37dfac1"
          ]
        },
        "id": "eKjRGGnyYNgU",
        "outputId": "e10097cc-32b2-4409-fa73-c6ed39453c25"
      },
      "execution_count": null,
      "outputs": [
        {
          "output_type": "display_data",
          "data": {
            "text/plain": [
              "<IPython.core.display.Javascript object>"
            ],
            "application/javascript": [
              "\n",
              "  for (rule of document.styleSheets[0].cssRules){\n",
              "    if (rule.selectorText=='body') {\n",
              "      rule.style.fontSize = '24px'\n",
              "      break\n",
              "    }\n",
              "  }\n",
              "  "
            ]
          },
          "metadata": {}
        },
        {
          "output_type": "display_data",
          "data": {
            "text/plain": [
              "<IPython.core.display.Javascript object>"
            ],
            "application/javascript": [
              "\n",
              "  for (rule of document.styleSheets[0].cssRules){\n",
              "    if (rule.selectorText=='body') {\n",
              "      rule.style.fontSize = '24px'\n",
              "      break\n",
              "    }\n",
              "  }\n",
              "  "
            ]
          },
          "metadata": {}
        },
        {
          "output_type": "stream",
          "name": "stderr",
          "text": [
            "<ipython-input-162-7f2feaed12d1>:21: FutureWarning: The default dtype for empty Series will be 'object' instead of 'float64' in a future version. Specify a dtype explicitly to silence this warning.\n",
            "  clf = pd.Series()\n",
            "<ipython-input-162-7f2feaed12d1>:22: FutureWarning: The default dtype for empty Series will be 'object' instead of 'float64' in a future version. Specify a dtype explicitly to silence this warning.\n",
            "  score = pd.Series()\n"
          ]
        },
        {
          "output_type": "display_data",
          "data": {
            "text/plain": [
              "  0%|          | 0/3 [00:00<?, ?it/s]"
            ],
            "application/vnd.jupyter.widget-view+json": {
              "version_major": 2,
              "version_minor": 0,
              "model_id": "056c80d3ddc345ec8f7e88bd3486663d"
            }
          },
          "metadata": {}
        }
      ]
    },
    {
      "cell_type": "code",
      "source": [
        "[\n",
        "    log_loss(model_data[f'{target}%'],model_data[f'{target}%_pred']),\n",
        "    mean_squared_error(model_data[f'{target}'],model_data[f'{target}_pred'])**0.5,\n",
        "]\n"
      ],
      "metadata": {
        "colab": {
          "base_uri": "https://localhost:8080/",
          "height": 48
        },
        "id": "5A2en5trN0p2",
        "outputId": "1728ece8-e245-43e6-b329-89f67888f293"
      },
      "execution_count": null,
      "outputs": [
        {
          "output_type": "display_data",
          "data": {
            "text/plain": [
              "<IPython.core.display.Javascript object>"
            ],
            "application/javascript": [
              "\n",
              "  for (rule of document.styleSheets[0].cssRules){\n",
              "    if (rule.selectorText=='body') {\n",
              "      rule.style.fontSize = '24px'\n",
              "      break\n",
              "    }\n",
              "  }\n",
              "  "
            ]
          },
          "metadata": {}
        },
        {
          "output_type": "display_data",
          "data": {
            "text/plain": [
              "<IPython.core.display.Javascript object>"
            ],
            "application/javascript": [
              "\n",
              "  for (rule of document.styleSheets[0].cssRules){\n",
              "    if (rule.selectorText=='body') {\n",
              "      rule.style.fontSize = '24px'\n",
              "      break\n",
              "    }\n",
              "  }\n",
              "  "
            ]
          },
          "metadata": {}
        },
        {
          "output_type": "execute_result",
          "data": {
            "text/plain": [
              "[0.40299993385187577, 2.2268507996126954]"
            ]
          },
          "metadata": {},
          "execution_count": 165
        }
      ]
    },
    {
      "cell_type": "code",
      "source": [
        "sns.kdeplot(model_data[f\"{target}%_pred\"])\n",
        "model_data[f\"{target}%_pred\"].describe()"
      ],
      "metadata": {
        "colab": {
          "base_uri": "https://localhost:8080/",
          "height": 727
        },
        "id": "Y3apOXf5Qf54",
        "outputId": "5b04c22e-5638-4f9d-96ab-d638adb3db92"
      },
      "execution_count": null,
      "outputs": [
        {
          "output_type": "display_data",
          "data": {
            "text/plain": [
              "<IPython.core.display.Javascript object>"
            ],
            "application/javascript": [
              "\n",
              "  for (rule of document.styleSheets[0].cssRules){\n",
              "    if (rule.selectorText=='body') {\n",
              "      rule.style.fontSize = '24px'\n",
              "      break\n",
              "    }\n",
              "  }\n",
              "  "
            ]
          },
          "metadata": {}
        },
        {
          "output_type": "display_data",
          "data": {
            "text/plain": [
              "<IPython.core.display.Javascript object>"
            ],
            "application/javascript": [
              "\n",
              "  for (rule of document.styleSheets[0].cssRules){\n",
              "    if (rule.selectorText=='body') {\n",
              "      rule.style.fontSize = '24px'\n",
              "      break\n",
              "    }\n",
              "  }\n",
              "  "
            ]
          },
          "metadata": {}
        },
        {
          "output_type": "execute_result",
          "data": {
            "text/plain": [
              "count    57300.000000\n",
              "mean         0.295978\n",
              "std          0.198238\n",
              "min          0.064114\n",
              "25%          0.095989\n",
              "50%          0.257459\n",
              "75%          0.443473\n",
              "max          0.807421\n",
              "Name: armpits%_pred, dtype: float64"
            ]
          },
          "metadata": {},
          "execution_count": 172
        },
        {
          "output_type": "display_data",
          "data": {
            "text/plain": [
              "<Figure size 640x480 with 1 Axes>"
            ],
            "image/png": "[encoded data removed]"
          },
          "metadata": {}
        }
      ]
    },
    {
      "cell_type": "code",
      "source": [
        "sns.kdeplot(model_data.loc[model_data[f'{target}%_pred']>.5, f'{target}_pred'])\n",
        "model_data.loc[model_data[f'{target}%_pred']>.5, f'{target}_pred'].describe()"
      ],
      "metadata": {
        "colab": {
          "base_uri": "https://localhost:8080/",
          "height": 727
        },
        "id": "pzbyahnNRwXU",
        "outputId": "51366673-4480-4c52-c67e-ef43da8f54d3"
      },
      "execution_count": null,
      "outputs": [
        {
          "output_type": "display_data",
          "data": {
            "text/plain": [
              "<IPython.core.display.Javascript object>"
            ],
            "application/javascript": [
              "\n",
              "  for (rule of document.styleSheets[0].cssRules){\n",
              "    if (rule.selectorText=='body') {\n",
              "      rule.style.fontSize = '24px'\n",
              "      break\n",
              "    }\n",
              "  }\n",
              "  "
            ]
          },
          "metadata": {}
        },
        {
          "output_type": "display_data",
          "data": {
            "text/plain": [
              "<IPython.core.display.Javascript object>"
            ],
            "application/javascript": [
              "\n",
              "  for (rule of document.styleSheets[0].cssRules){\n",
              "    if (rule.selectorText=='body') {\n",
              "      rule.style.fontSize = '24px'\n",
              "      break\n",
              "    }\n",
              "  }\n",
              "  "
            ]
          },
          "metadata": {}
        },
        {
          "output_type": "execute_result",
          "data": {
            "text/plain": [
              "count    11395.000000\n",
              "mean         2.377904\n",
              "std          0.376988\n",
              "min          1.920709\n",
              "25%          2.082921\n",
              "50%          2.281710\n",
              "75%          2.560644\n",
              "max          3.877975\n",
              "Name: armpits_pred, dtype: float64"
            ]
          },
          "metadata": {},
          "execution_count": 173
        },
        {
          "output_type": "display_data",
          "data": {
            "text/plain": [
              "<Figure size 640x480 with 1 Axes>"
            ],
            "image/png": "[encoded data removed]"
          },
          "metadata": {}
        }
      ]
    },
    {
      "cell_type": "code",
      "source": [
        "ranks = model_data.loc[model_data[f'{target}%_pred']>.5, kink_cols].mean().sort_values(ascending=False)\n",
        "ranks[ranks>0].head(50)"
      ],
      "metadata": {
        "colab": {
          "base_uri": "https://localhost:8080/",
          "height": 1000
        },
        "id": "wr7FCfz0Shkg",
        "outputId": "2b64e1c3-541e-4807-9e45-28340c7ecc8a"
      },
      "execution_count": null,
      "outputs": [
        {
          "output_type": "display_data",
          "data": {
            "text/plain": [
              "<IPython.core.display.Javascript object>"
            ],
            "application/javascript": [
              "\n",
              "  for (rule of document.styleSheets[0].cssRules){\n",
              "    if (rule.selectorText=='body') {\n",
              "      rule.style.fontSize = '24px'\n",
              "      break\n",
              "    }\n",
              "  }\n",
              "  "
            ]
          },
          "metadata": {}
        },
        {
          "output_type": "display_data",
          "data": {
            "text/plain": [
              "<IPython.core.display.Javascript object>"
            ],
            "application/javascript": [
              "\n",
              "  for (rule of document.styleSheets[0].cssRules){\n",
              "    if (rule.selectorText=='body') {\n",
              "      rule.style.fontSize = '24px'\n",
              "      break\n",
              "    }\n",
              "  }\n",
              "  "
            ]
          },
          "metadata": {}
        },
        {
          "output_type": "execute_result",
          "data": {
            "text/plain": [
              "femininity              4.367705\n",
              "sensuality              4.048618\n",
              "blowjobs                4.045546\n",
              "makeouts                4.026152\n",
              "cunnilingus             3.870645\n",
              "teasing                 3.868188\n",
              "lips                    3.814305\n",
              "skirts                  3.768144\n",
              "toys                    3.656955\n",
              "romance                 3.639228\n",
              "gentleness              3.503817\n",
              "analsex                 3.491005\n",
              "masturbatingasfemale    3.442036\n",
              "multiplepartners        3.381659\n",
              "roles                   3.359719\n",
              "spanking                3.337604\n",
              "clothing                3.322071\n",
              "beingdom                3.312944\n",
              "beingsub                3.278894\n",
              "frustration             3.268890\n",
              "anonsex                 3.250724\n",
              "largebreasts            3.229048\n",
              "freeuse                 3.212462\n",
              "teacherstudent          3.209127\n",
              "squirt                  3.170250\n",
              "obedience               3.157262\n",
              "exhibitionism           3.144800\n",
              "masterslave             3.120842\n",
              "voyeurism               3.076700\n",
              "smallclothing           3.010355\n",
              "choking                 2.947960\n",
              "masturbatingasmale      2.870821\n",
              "ethnicities             2.821852\n",
              "sadomasochism           2.814831\n",
              "smells                  2.795963\n",
              "precum                  2.724967\n",
              "mindbreak               2.591136\n",
              "latexleather            2.585871\n",
              "pegging                 2.576393\n",
              "hypnotism               2.572005\n",
              "textures                2.568144\n",
              "rapeplay                2.559193\n",
              "feet                    2.497148\n",
              "subtype                 2.495919\n",
              "pregnancy               2.472576\n",
              "bukkake                 2.422993\n",
              "humiliation             2.398069\n",
              "givepain                2.295129\n",
              "ageplay                 2.263273\n",
              "receivepain             2.231417\n",
              "dtype: float64"
            ]
          },
          "metadata": {},
          "execution_count": 181
        }
      ]
    },
    {
      "cell_type": "code",
      "source": [
        "ranks = model_data.loc[(model_data[f'{target}%_pred']>.5) & (model_data[f'{target}_pred']>3), kink_cols].mean().sort_values(ascending=False)\n",
        "ranks[ranks>0].head(50)"
      ],
      "metadata": {
        "colab": {
          "base_uri": "https://localhost:8080/",
          "height": 1000
        },
        "id": "kOa_stNDTr9Z",
        "outputId": "4460cb6a-79a5-452c-d08f-e8f092bb5a8e"
      },
      "execution_count": null,
      "outputs": [
        {
          "output_type": "display_data",
          "data": {
            "text/plain": [
              "<IPython.core.display.Javascript object>"
            ],
            "application/javascript": [
              "\n",
              "  for (rule of document.styleSheets[0].cssRules){\n",
              "    if (rule.selectorText=='body') {\n",
              "      rule.style.fontSize = '24px'\n",
              "      break\n",
              "    }\n",
              "  }\n",
              "  "
            ]
          },
          "metadata": {}
        },
        {
          "output_type": "display_data",
          "data": {
            "text/plain": [
              "<IPython.core.display.Javascript object>"
            ],
            "application/javascript": [
              "\n",
              "  for (rule of document.styleSheets[0].cssRules){\n",
              "    if (rule.selectorText=='body') {\n",
              "      rule.style.fontSize = '24px'\n",
              "      break\n",
              "    }\n",
              "  }\n",
              "  "
            ]
          },
          "metadata": {}
        },
        {
          "output_type": "execute_result",
          "data": {
            "text/plain": [
              "smells                  4.701330\n",
              "femininity              4.590085\n",
              "teasing                 4.540508\n",
              "feet                    4.524788\n",
              "blowjobs                4.512696\n",
              "analsex                 4.503023\n",
              "makeouts                4.448609\n",
              "sensuality              4.438936\n",
              "cunnilingus             4.432890\n",
              "lips                    4.429262\n",
              "toys                    4.409915\n",
              "obedience               4.403869\n",
              "clothing                4.388150\n",
              "skirts                  4.360339\n",
              "masterslave             4.357920\n",
              "urine                   4.351874\n",
              "beingsub                4.336155\n",
              "frustration             4.331318\n",
              "roles                   4.326481\n",
              "multiplepartners        4.287787\n",
              "squirt                  4.281741\n",
              "spanking                4.270859\n",
              "exhibitionism           4.262394\n",
              "choking                 4.221282\n",
              "sadomasochism           4.197098\n",
              "humiliation             4.195889\n",
              "teacherstudent          4.182588\n",
              "masturbatingasfemale    4.175333\n",
              "precum                  4.162031\n",
              "mindbreak               4.152358\n",
              "smallclothing           4.134220\n",
              "gentleness              4.126965\n",
              "freeuse                 4.108827\n",
              "anonsex                 4.103990\n",
              "romance                 4.093108\n",
              "hypnotism               4.078597\n",
              "voyeurism               4.067715\n",
              "largebreasts            4.049577\n",
              "pegging                 4.045949\n",
              "textures                3.996372\n",
              "armpits                 3.983071\n",
              "futa                    3.979444\n",
              "bukkake                 3.937122\n",
              "genderplay              3.931076\n",
              "latexleather            3.906892\n",
              "rapeplay                3.882709\n",
              "masturbatingasmale      3.874244\n",
              "genderswapped           3.860943\n",
              "objects                 3.831923\n",
              "sizediff                3.824667\n",
              "dtype: float64"
            ]
          },
          "metadata": {},
          "execution_count": 182
        }
      ]
    }
  ]
}